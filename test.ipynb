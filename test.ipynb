{
 "cells": [
  {
   "cell_type": "code",
   "id": "initial_id",
   "metadata": {
    "collapsed": true,
    "ExecuteTime": {
     "end_time": "2025-04-22T11:11:55.370872Z",
     "start_time": "2025-04-22T11:08:03.798515Z"
    }
   },
   "source": "!pip install dlib",
   "outputs": [
    {
     "name": "stdout",
     "output_type": "stream",
     "text": [
      "Collecting dlib\n",
      "  Using cached dlib-19.24.8.tar.gz (3.4 MB)\n",
      "  Preparing metadata (setup.py): started\n",
      "  Preparing metadata (setup.py): finished with status 'done'\n",
      "Building wheels for collected packages: dlib\n",
      "  Building wheel for dlib (setup.py): started\n",
      "  Building wheel for dlib (setup.py): still running...\n",
      "  Building wheel for dlib (setup.py): still running...\n",
      "  Building wheel for dlib (setup.py): still running...\n",
      "  Building wheel for dlib (setup.py): finished with status 'done'\n",
      "  Created wheel for dlib: filename=dlib-19.24.8-cp312-cp312-win_amd64.whl size=2927942 sha256=834af23114d308e51b393a6482416a39b9a9278cf5e8c2374da0563e453057ef\n",
      "  Stored in directory: c:\\users\\minhv\\appdata\\local\\pip\\cache\\wheels\\45\\47\\c4\\f5c2cf6f3b4ab4f558f27375101ead0ef7f1861d5aa54f5f8c\n",
      "Successfully built dlib\n",
      "Installing collected packages: dlib\n",
      "Successfully installed dlib-19.24.8\n"
     ]
    }
   ],
   "execution_count": 1
  },
  {
   "metadata": {
    "ExecuteTime": {
     "end_time": "2025-04-22T16:10:00.511847Z",
     "start_time": "2025-04-22T16:09:59.021117Z"
    }
   },
   "cell_type": "code",
   "source": "from openai_MODEL import *",
   "id": "cd5691596cdceee2",
   "outputs": [],
   "execution_count": 1
  },
  {
   "metadata": {
    "ExecuteTime": {
     "end_time": "2025-04-22T16:10:07.003237Z",
     "start_time": "2025-04-22T16:10:01.541842Z"
    }
   },
   "cell_type": "code",
   "source": [
    "openai = OpenAi()\n",
    "openai.initialize()\n",
    "openai.response()"
   ],
   "id": "611b36f5fd43b6f6",
   "outputs": [],
   "execution_count": 2
  },
  {
   "metadata": {
    "ExecuteTime": {
     "end_time": "2025-04-22T13:44:12.988595Z",
     "start_time": "2025-04-22T13:44:06.145167Z"
    }
   },
   "cell_type": "code",
   "source": "!pip install --upgrade openai\n",
   "id": "5c76f3ece540f78c",
   "outputs": [
    {
     "name": "stdout",
     "output_type": "stream",
     "text": [
      "Requirement already satisfied: openai in c:\\users\\minhv\\anaconda3\\lib\\site-packages (1.65.3)\n",
      "Collecting openai\n",
      "  Downloading openai-1.75.0-py3-none-any.whl.metadata (25 kB)\n",
      "Requirement already satisfied: anyio<5,>=3.5.0 in c:\\users\\minhv\\anaconda3\\lib\\site-packages (from openai) (4.2.0)\n",
      "Requirement already satisfied: distro<2,>=1.7.0 in c:\\users\\minhv\\anaconda3\\lib\\site-packages (from openai) (1.9.0)\n",
      "Requirement already satisfied: httpx<1,>=0.23.0 in c:\\users\\minhv\\anaconda3\\lib\\site-packages (from openai) (0.27.0)\n",
      "Requirement already satisfied: jiter<1,>=0.4.0 in c:\\users\\minhv\\anaconda3\\lib\\site-packages (from openai) (0.8.2)\n",
      "Requirement already satisfied: pydantic<3,>=1.9.0 in c:\\users\\minhv\\anaconda3\\lib\\site-packages (from openai) (2.8.2)\n",
      "Requirement already satisfied: sniffio in c:\\users\\minhv\\anaconda3\\lib\\site-packages (from openai) (1.3.0)\n",
      "Requirement already satisfied: tqdm>4 in c:\\users\\minhv\\anaconda3\\lib\\site-packages (from openai) (4.66.5)\n",
      "Requirement already satisfied: typing-extensions<5,>=4.11 in c:\\users\\minhv\\anaconda3\\lib\\site-packages (from openai) (4.12.2)\n",
      "Requirement already satisfied: idna>=2.8 in c:\\users\\minhv\\anaconda3\\lib\\site-packages (from anyio<5,>=3.5.0->openai) (3.7)\n",
      "Requirement already satisfied: certifi in c:\\users\\minhv\\anaconda3\\lib\\site-packages (from httpx<1,>=0.23.0->openai) (2024.8.30)\n",
      "Requirement already satisfied: httpcore==1.* in c:\\users\\minhv\\anaconda3\\lib\\site-packages (from httpx<1,>=0.23.0->openai) (1.0.2)\n",
      "Requirement already satisfied: h11<0.15,>=0.13 in c:\\users\\minhv\\anaconda3\\lib\\site-packages (from httpcore==1.*->httpx<1,>=0.23.0->openai) (0.14.0)\n",
      "Requirement already satisfied: annotated-types>=0.4.0 in c:\\users\\minhv\\anaconda3\\lib\\site-packages (from pydantic<3,>=1.9.0->openai) (0.6.0)\n",
      "Requirement already satisfied: pydantic-core==2.20.1 in c:\\users\\minhv\\anaconda3\\lib\\site-packages (from pydantic<3,>=1.9.0->openai) (2.20.1)\n",
      "Requirement already satisfied: colorama in c:\\users\\minhv\\anaconda3\\lib\\site-packages (from tqdm>4->openai) (0.4.6)\n",
      "Downloading openai-1.75.0-py3-none-any.whl (646 kB)\n",
      "   ---------------------------------------- 0.0/647.0 kB ? eta -:--:--\n",
      "   --------------------------------------- 647.0/647.0 kB 12.0 MB/s eta 0:00:00\n",
      "Installing collected packages: openai\n",
      "  Attempting uninstall: openai\n",
      "    Found existing installation: openai 1.65.3\n",
      "    Uninstalling openai-1.65.3:\n",
      "      Successfully uninstalled openai-1.65.3\n",
      "Successfully installed openai-1.75.0\n"
     ]
    }
   ],
   "execution_count": 3
  },
  {
   "metadata": {
    "ExecuteTime": {
     "end_time": "2025-04-22T13:53:33.521684Z",
     "start_time": "2025-04-22T13:53:24.647374Z"
    }
   },
   "cell_type": "code",
   "source": "!pip install playsound",
   "id": "18d4c17bd10604e",
   "outputs": [
    {
     "name": "stdout",
     "output_type": "stream",
     "text": [
      "Collecting playsound\n",
      "  Downloading playsound-1.3.0.tar.gz (7.7 kB)\n",
      "  Preparing metadata (setup.py): started\n",
      "  Preparing metadata (setup.py): finished with status 'done'\n",
      "Building wheels for collected packages: playsound\n",
      "  Building wheel for playsound (setup.py): started\n",
      "  Building wheel for playsound (setup.py): finished with status 'done'\n",
      "  Created wheel for playsound: filename=playsound-1.3.0-py3-none-any.whl size=7044 sha256=a3801e1e2892bd499d468ad530e4b9e804d394b062264635e123a68784b15688\n",
      "  Stored in directory: c:\\users\\minhv\\appdata\\local\\pip\\cache\\wheels\\cf\\42\\ff\\7c587bae55eec67b909ca316b250d9b4daedbf272a3cbeb907\n",
      "Successfully built playsound\n",
      "Installing collected packages: playsound\n",
      "Successfully installed playsound-1.3.0\n"
     ]
    }
   ],
   "execution_count": 3
  },
  {
   "metadata": {
    "ExecuteTime": {
     "end_time": "2025-04-22T14:01:39.351230Z",
     "start_time": "2025-04-22T14:01:32.489879Z"
    }
   },
   "cell_type": "code",
   "source": "!pip install pygame\n",
   "id": "8077c9feac484fd0",
   "outputs": [
    {
     "name": "stdout",
     "output_type": "stream",
     "text": [
      "Collecting pygame\n",
      "  Downloading pygame-2.6.1-cp312-cp312-win_amd64.whl.metadata (13 kB)\n",
      "Downloading pygame-2.6.1-cp312-cp312-win_amd64.whl (10.6 MB)\n",
      "   ---------------------------------------- 0.0/10.6 MB ? eta -:--:--\n",
      "   --- ------------------------------------ 1.0/10.6 MB 7.2 MB/s eta 0:00:02\n",
      "   -------- ------------------------------- 2.4/10.6 MB 6.1 MB/s eta 0:00:02\n",
      "   ----------- ---------------------------- 3.1/10.6 MB 5.6 MB/s eta 0:00:02\n",
      "   --------------- ------------------------ 4.2/10.6 MB 4.9 MB/s eta 0:00:02\n",
      "   ----------------------- ---------------- 6.3/10.6 MB 6.0 MB/s eta 0:00:01\n",
      "   ------------------------------ --------- 8.1/10.6 MB 6.8 MB/s eta 0:00:01\n",
      "   ------------------------------------ --- 9.7/10.6 MB 6.6 MB/s eta 0:00:01\n",
      "   ---------------------------------------- 10.6/10.6 MB 6.8 MB/s eta 0:00:00\n",
      "Installing collected packages: pygame\n",
      "Successfully installed pygame-2.6.1\n"
     ]
    }
   ],
   "execution_count": 4
  },
  {
   "metadata": {
    "ExecuteTime": {
     "end_time": "2025-04-22T14:21:39.938373Z",
     "start_time": "2025-04-22T14:21:34.076616Z"
    }
   },
   "cell_type": "code",
   "source": [
    "import sounddevice as sd\n",
    "from scipy.io.wavfile import write\n",
    "import numpy as np\n",
    "\n",
    "# Settings\n",
    "sample_rate = 44100  # 44.1 kHz\n",
    "duration = 5  # seconds\n",
    "filename = \"output.wav\"\n",
    "\n",
    "# Record\n",
    "print(\"🎤 Recording...\")\n",
    "recording = sd.rec(int(duration * sample_rate), samplerate=sample_rate, channels=1, dtype='int16')\n",
    "sd.wait()  # Wait until recording is finished\n",
    "print(\"✅ Recording complete.\")\n",
    "\n",
    "# Save\n",
    "write(filename, sample_rate, recording)\n",
    "print(f\"📁 Audio saved as {filename}\")"
   ],
   "id": "265a4a8828603a84",
   "outputs": [
    {
     "name": "stdout",
     "output_type": "stream",
     "text": [
      "🎤 Recording...\n",
      "✅ Recording complete.\n",
      "📁 Audio saved as output.wav\n"
     ]
    }
   ],
   "execution_count": 5
  }
 ],
 "metadata": {
  "kernelspec": {
   "display_name": "Python 3",
   "language": "python",
   "name": "python3"
  },
  "language_info": {
   "codemirror_mode": {
    "name": "ipython",
    "version": 2
   },
   "file_extension": ".py",
   "mimetype": "text/x-python",
   "name": "python",
   "nbconvert_exporter": "python",
   "pygments_lexer": "ipython2",
   "version": "2.7.6"
  }
 },
 "nbformat": 4,
 "nbformat_minor": 5
}
